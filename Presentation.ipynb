{
 "cells": [
  {
   "cell_type": "markdown",
   "metadata": {
    "slideshow": {
     "slide_type": "slide"
    }
   },
   "source": [
    "# Comment utiliser cette présentation?"
   ]
  },
  {
   "cell_type": "markdown",
   "metadata": {
    "slideshow": {
     "slide_type": "subslide"
    }
   },
   "source": [
    "## Structure"
   ]
  },
  {
   "cell_type": "markdown",
   "metadata": {
    "slideshow": {
     "slide_type": "fragment"
    }
   },
   "source": [
    "On peut choisir les thèmes principaux en naviguant à l'horizontal, de gauche à droite."
   ]
  },
  {
   "cell_type": "markdown",
   "metadata": {
    "slideshow": {
     "slide_type": "fragment"
    }
   },
   "source": [
    "Une fois un thème principal choisi, on fait défiler les diapositives à la verticale, de haut en bas."
   ]
  },
  {
   "cell_type": "markdown",
   "metadata": {
    "slideshow": {
     "slide_type": "subslide"
    }
   },
   "source": [
    "## Clavier"
   ]
  },
  {
   "cell_type": "markdown",
   "metadata": {
    "slideshow": {
     "slide_type": "fragment"
    }
   },
   "source": [
    "Utilisez les flèches de votre clavier pour naviguer de diapositive en diapositive."
   ]
  },
  {
   "cell_type": "markdown",
   "metadata": {
    "slideshow": {
     "slide_type": "fragment"
    }
   },
   "source": [
    "Alternativement, vous pouvez utiliser les boutons en forme de flèches situés dans le coin inférieur droit de la page."
   ]
  },
  {
   "cell_type": "markdown",
   "metadata": {
    "slideshow": {
     "slide_type": "fragment"
    }
   },
   "source": [
    "Pour avoir une vue d'ensemble de la présentation, appuyez sur la touche `O` de votre clavier."
   ]
  },
  {
   "cell_type": "markdown",
   "metadata": {
    "slideshow": {
     "slide_type": "slide"
    }
   },
   "source": [
    "# Définitions/Rappels"
   ]
  },
  {
   "cell_type": "markdown",
   "metadata": {
    "slideshow": {
     "slide_type": "subslide"
    }
   },
   "source": [
    "## Processus stochastique (à temps discret)"
   ]
  },
  {
   "cell_type": "markdown",
   "metadata": {},
   "source": [
    "Famille de variables aléatoires\n",
    "* définies sur un espace probabilisé commun (ici, on note la mesure $\\Pr$),\n",
    "* prennant valeur dans un espace mesurable commun et\n",
    "* indexées par un ensemble (ordonné et discret) $T$ (ici, $T \\subseteq \\mathbb N$).\n",
    "\n",
    "On note $\\{ Y_t \\}_{t \\in T}$."
   ]
  },
  {
   "cell_type": "markdown",
   "metadata": {
    "slideshow": {
     "slide_type": "subslide"
    }
   },
   "source": [
    "## Chaîne de Markov"
   ]
  },
  {
   "cell_type": "markdown",
   "metadata": {},
   "source": [
    "**Propriété de Markov (faible)**:\n",
    "$$\n",
    "\\Pr(Y_{n + 1} = y_{n + 1} | Y_n = y_n, Y_{n - 1} = y_{n - 1}, \\ldots, Y_0 = y_0)\n",
    "= \\Pr(Y_{n + 1} = y_{n + 1} | Y_n = y_n)\n",
    "$$"
   ]
  },
  {
   "cell_type": "markdown",
   "metadata": {
    "slideshow": {
     "slide_type": "fragment"
    }
   },
   "source": [
    "i.e. indépendance conditionnelle du futur étant donné le présent."
   ]
  },
  {
   "cell_type": "markdown",
   "metadata": {
    "slideshow": {
     "slide_type": "fragment"
    }
   },
   "source": [
    "Chaîne de Markov $\\Leftrightarrow$ processus stochastique respectant la propriété de Markov."
   ]
  },
  {
   "cell_type": "markdown",
   "metadata": {
    "slideshow": {
     "slide_type": "subslide"
    }
   },
   "source": [
    "### Exemple: marche de l'ivrogne"
   ]
  },
  {
   "cell_type": "markdown",
   "metadata": {},
   "source": [
    "$$\n",
    "\\Pr(Y_{n + 1} = y_{n + 1} | Y_n = y_n) = \\frac 1 2 \n",
    "$$\n",
    "pour $y_{n + 1} = y_n \\pm 1$, $0$ sinon."
   ]
  },
  {
   "cell_type": "markdown",
   "metadata": {
    "slideshow": {
     "slide_type": "fragment"
    }
   },
   "source": [
    "![Marche de l'ivrogne](figures/drunken_walk.png)"
   ]
  },
  {
   "cell_type": "markdown",
   "metadata": {
    "slideshow": {
     "slide_type": "subslide"
    }
   },
   "source": [
    "## Modèle de Markov caché (discret) (HMM)"
   ]
  },
  {
   "cell_type": "markdown",
   "metadata": {},
   "source": [
    "Soient deux processus stochastiques $\\{ X_t \\}_{t \\in T}$ et $\\{ Y_t \\}_{t \\in T}$ tels que\n",
    "\n",
    "* $\\{ Y_t \\}_{t \\in T}$ est une chaîne de Markov et\n",
    "\n",
    "* on a\n",
    "$$\n",
    "\\Pr(X_n = x_n | Y_n = y_n, Y_{n - 1} = y_{n - 1}, \\ldots, Y_0 = y_0)\n",
    "= \\Pr(X_n = x_n | Y_n = y_n).\n",
    "$$"
   ]
  },
  {
   "cell_type": "markdown",
   "metadata": {},
   "source": [
    "On appelle cette dernière probabilité «*probabilité d'émission*»."
   ]
  },
  {
   "cell_type": "markdown",
   "metadata": {
    "slideshow": {
     "slide_type": "subslide"
    }
   },
   "source": [
    "### Exemple: marche de l'ivrogne revisitée"
   ]
  },
  {
   "cell_type": "markdown",
   "metadata": {},
   "source": [
    "$$\n",
    "\\Pr(X_n = 1 | Y_n = y_n) = \\Pr(X_n = 0 | Y_n = y_n) = \\frac 1 2\n",
    "$$\n",
    "si $y_n$ est premier, $0$ sinon."
   ]
  },
  {
   "cell_type": "markdown",
   "metadata": {
    "slideshow": {
     "slide_type": "fragment"
    }
   },
   "source": [
    "i.e. si l'ivrogne est dans un «état premier», il lance une pièce de monaie et boit si elle tombe sur face."
   ]
  },
  {
   "cell_type": "markdown",
   "metadata": {
    "slideshow": {
     "slide_type": "fragment"
    }
   },
   "source": [
    "![Marche de l'ivrogne revisitée](figures/drunken_hmm.png)"
   ]
  },
  {
   "cell_type": "markdown",
   "metadata": {
    "slideshow": {
     "slide_type": "slide"
    }
   },
   "source": [
    "# Données écologiques"
   ]
  },
  {
   "cell_type": "markdown",
   "metadata": {
    "slideshow": {
     "slide_type": "subslide"
    }
   },
   "source": [
    "## Types"
   ]
  },
  {
   "cell_type": "markdown",
   "metadata": {},
   "source": [
    "* Capture-recapture;\n",
    "* Géolocation (i.e. capture-recapture avec probabilité de recapture $= 1$).\n",
    "* Occupation (i.e. capture-recapture au niveau de l'espèce)\n",
    "  * $\\Rightarrow$ Faux négatifs car difficile de différencier les espèces;\n",
    "* Abondance (photographies aériennes);\n",
    "* Distance (distance entre «l'observateur» et l'individu);"
   ]
  },
  {
   "cell_type": "markdown",
   "metadata": {
    "slideshow": {
     "slide_type": "fragment"
    }
   },
   "source": [
    "Peu importe le type, on veut des modèles\n",
    "* permettant de séparer le processus réel (system process)\n",
    "* du processus observé\n",
    "* en incorporant des erreurs de mesures/covariables."
   ]
  },
  {
   "cell_type": "markdown",
   "metadata": {
    "slideshow": {
     "slide_type": "fragment"
    }
   },
   "source": [
    "$\\Rightarrow$ Modèles de Markov caché."
   ]
  },
  {
   "cell_type": "markdown",
   "metadata": {
    "slideshow": {
     "slide_type": "subslide"
    }
   },
   "source": [
    "## Capture-recapture"
   ]
  },
  {
   "cell_type": "markdown",
   "metadata": {},
   "source": [
    "![Capture-recapture](figures/capt_recapt.png)"
   ]
  },
  {
   "cell_type": "markdown",
   "metadata": {
    "slideshow": {
     "slide_type": "subslide"
    }
   },
   "source": [
    "## Vraisemblance et HMM"
   ]
  },
  {
   "cell_type": "markdown",
   "metadata": {},
   "source": [
    "Pour un individu, on dénote par\n",
    "* $x$ le vecteur des obesrvations,\n",
    "* $y$ le vecteur des vrais états et\n",
    "* $\\theta$ le vecteur des paramètres."
   ]
  },
  {
   "cell_type": "markdown",
   "metadata": {
    "slideshow": {
     "slide_type": "fragment"
    }
   },
   "source": [
    "La vraisemblance $f(x, y | \\theta)$ peut s'écrire comme\n",
    "\n",
    "$$\n",
    "f(x, y | \\theta) = f_{\\text{obs}}(x | y, \\theta) \\; f_{\\text{sys}}(y | \\theta)\n",
    "$$"
   ]
  },
  {
   "cell_type": "markdown",
   "metadata": {
    "slideshow": {
     "slide_type": "fragment"
    }
   },
   "source": [
    "* $f_{\\text{obs}}$ correspond au processus observé;\n",
    "* $f_{\\text{sys}}$ correspond au processus réel."
   ]
  },
  {
   "cell_type": "markdown",
   "metadata": {
    "slideshow": {
     "slide_type": "subslide"
    }
   },
   "source": [
    "## Modèle Cormack-Jolly-Seber"
   ]
  },
  {
   "cell_type": "markdown",
   "metadata": {},
   "source": [
    "* S'applique à des données de capture-recapture;\n",
    "* Généralement utilisé pour estimer des probabilités de survie;\n",
    "* S'interprète facilement comme un HMM."
   ]
  },
  {
   "cell_type": "markdown",
   "metadata": {
    "slideshow": {
     "slide_type": "fragment"
    }
   },
   "source": [
    "* Individu capturé initialement au temps $g$,\n",
    "* associé à un vecteur $y = (y_1, \\ldots, y_T)$ t.q. $y_t = 1$ si vivant au temps $t$, $0$ sinon.\n",
    "* et à un vecteur $x = (x_1, \\ldots, x_T)$ t.q. $x_t = 1$ si capturé au temps $t$, $0$ sinon."
   ]
  },
  {
   "cell_type": "markdown",
   "metadata": {
    "slideshow": {
     "slide_type": "fragment"
    }
   },
   "source": [
    "Soit $\\phi_{t - 1}$ la probabilité de survie entre $t - 1$ et $t$. Pour $t = g + 1, \\ldots, T$, $\\{ Y_t \\}$ est une chaîne de Markov (possiblement hétérogène) avec\n",
    "$$\n",
    "\\Pr(Y_t = 1 | Y_{t - 1} = y_{t - 1}) = \\phi_{t - 1} y_{t - 1}.\n",
    "$$"
   ]
  },
  {
   "cell_type": "markdown",
   "metadata": {
    "slideshow": {
     "slide_type": "fragment"
    }
   },
   "source": [
    "Soit $p_t$ la probabilité de capture au temps $t$. Pour $t = g + 1, \\ldots, T$, $\\{ X_t \\}$ est un processus de Bernoulli tel que\n",
    "\n",
    "$$\n",
    "\\Pr(X_t = 1 | Y_t = y_t) = p_t y_t.\n",
    "$$"
   ]
  },
  {
   "cell_type": "markdown",
   "metadata": {
    "slideshow": {
     "slide_type": "subslide"
    }
   },
   "source": [
    "## Modèle Cormack-Jolly-Seber (suite)"
   ]
  },
  {
   "cell_type": "markdown",
   "metadata": {},
   "source": [
    "$\\Rightarrow$ Modèle de Markov caché."
   ]
  },
  {
   "cell_type": "markdown",
   "metadata": {
    "slideshow": {
     "slide_type": "fragment"
    }
   },
   "source": [
    "Estimation de la vraisemblance des données (\"observed data likelihood\"): intégrer par rapport à $\\{ Y_t \\}$."
   ]
  },
  {
   "cell_type": "markdown",
   "metadata": {
    "slideshow": {
     "slide_type": "fragment"
    }
   },
   "source": [
    "Estimation de la vraisemblance complète (\"complete data likelihood\"): produit des vraisemblances."
   ]
  },
  {
   "cell_type": "markdown",
   "metadata": {
    "slideshow": {
     "slide_type": "fragment"
    }
   },
   "source": [
    "Possibilité\n",
    "* d'exprimer les $\\phi_t$ comme des fonctions d'autres covariables; pas de difficulté majeures pour le calcul des vraisemblances,\n",
    "* d'intégrer des effets aléatoires,\n",
    "* ..."
   ]
  },
  {
   "cell_type": "markdown",
   "metadata": {
    "slideshow": {
     "slide_type": "subslide"
    }
   },
   "source": [
    "## Autres modèles"
   ]
  },
  {
   "cell_type": "markdown",
   "metadata": {
    "slideshow": {
     "slide_type": "fragment"
    }
   },
   "source": [
    "### Abondance: Jolly-Seber"
   ]
  },
  {
   "cell_type": "markdown",
   "metadata": {},
   "source": [
    "Peut être vu comme une extension des modèles CJS pour laquelle on ne conditionne pas sur la capture initiale des individus observés."
   ]
  },
  {
   "cell_type": "markdown",
   "metadata": {
    "slideshow": {
     "slide_type": "fragment"
    }
   },
   "source": [
    "### Modèles intégrés"
   ]
  },
  {
   "cell_type": "markdown",
   "metadata": {},
   "source": [
    "De multiples jeux de données sont combinés (par exemple données de distance + capture-recapture)."
   ]
  },
  {
   "cell_type": "markdown",
   "metadata": {
    "slideshow": {
     "slide_type": "fragment"
    }
   },
   "source": [
    "Jeux de donnés indépendants $\\Rightarrow$ factorise la vraisemblance."
   ]
  },
  {
   "cell_type": "markdown",
   "metadata": {
    "slideshow": {
     "slide_type": "fragment"
    }
   },
   "source": [
    "Sinon, ajouter d'autres «system process» afin d'obtenir l'indépendance conditionnelle."
   ]
  }
 ],
 "metadata": {
  "kernelspec": {
   "display_name": "",
   "name": ""
  },
  "language_info": {
   "name": ""
  }
 },
 "nbformat": 4,
 "nbformat_minor": 4
}
